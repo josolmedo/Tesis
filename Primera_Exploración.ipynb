{
  "nbformat": 4,
  "nbformat_minor": 0,
  "metadata": {
    "colab": {
      "provenance": []
    },
    "kernelspec": {
      "name": "python3",
      "display_name": "Python 3"
    },
    "language_info": {
      "name": "python"
    }
  },
  "cells": [
    {
      "cell_type": "markdown",
      "source": [
        "Los archivos con terminación .h5 son frecuentemente usados por la comunidad científica, contienen grandes cantidados de datos y están compuestos por dos tipos de datos: Grupos (Contienen otros grupos y datasets) y Datasets (colecciones de datos en forma de arreglo)\n",
        "\n",
        "\n",
        "Los grupos son como diccionarios.\n",
        "Los datasets como arreglos de tipo Numpy."
      ],
      "metadata": {
        "id": "djqp-EZEws7l"
      }
    },
    {
      "cell_type": "code",
      "source": [
        "import h5py #Importamos biblioteca para el manejo de archivos .h5\n",
        "f = h5py.File('Prueba.h5', 'r') # Abrir el archivo H5 en modo de solo lectura\n",
        "list(f.keys()) #Listo los grupos disponibles en el archivo (a primera vista)"
      ],
      "metadata": {
        "id": "NwysPcAsWP_X",
        "colab": {
          "base_uri": "https://localhost:8080/"
        },
        "outputId": "03e4d224-d1e9-43f2-e0e7-8311646a69c8"
      },
      "execution_count": 53,
      "outputs": [
        {
          "output_type": "execute_result",
          "data": {
            "text/plain": [
              "['Data']"
            ]
          },
          "metadata": {},
          "execution_count": 53
        }
      ]
    },
    {
      "cell_type": "code",
      "source": [
        "dato=f[\"Data\"]\n",
        "print(dato)"
      ],
      "metadata": {
        "colab": {
          "base_uri": "https://localhost:8080/"
        },
        "id": "k7UZjY6EvdUw",
        "outputId": "047b2901-fa0e-4bdc-ba7f-21fe7898e06d"
      },
      "execution_count": 52,
      "outputs": [
        {
          "output_type": "stream",
          "name": "stdout",
          "text": [
            "<HDF5 group \"/Data\" (1 members)>\n"
          ]
        }
      ]
    },
    {
      "cell_type": "code",
      "source": [
        "# Obtener la lista de claves en el grupo \"Data\"\n",
        "keys_in_data_group = list(f[\"Data\"].keys())\n",
        "\n",
        "# Imprimir las claves\n",
        "print(\"Claves en el grupo 'Data':\", keys_in_data_group)\n",
        "\n",
        "# Iterar sobre las claves e imprimir información sobre cada conjunto de datos o subgrupo\n",
        "for key in keys_in_data_group:\n",
        "    item = f[\"Data\"][key]\n",
        "    if isinstance(item, h5py.Dataset):\n",
        "        print(f\"{key} es un conjunto de datos con forma {item.shape} y tipo {item.dtype}\")\n",
        "    elif isinstance(item, h5py.Group):\n",
        "        print(f\"{key} es un subgrupo con las siguientes claves: {list(item.keys())}\")\n",
        "\n",
        "# Cierra el archivo HDF5 después de usarlo\n",
        "#f.close()\n"
      ],
      "metadata": {
        "id": "azEEGJeJWQFc",
        "colab": {
          "base_uri": "https://localhost:8080/"
        },
        "outputId": "444022aa-27df-4324-d4eb-58ab45282d52"
      },
      "execution_count": 44,
      "outputs": [
        {
          "output_type": "stream",
          "name": "stdout",
          "text": [
            "Claves en el grupo 'Data': ['Recording_0']\n",
            "Recording_0 es un subgrupo con las siguientes claves: ['AnalogStream']\n"
          ]
        }
      ]
    },
    {
      "cell_type": "code",
      "source": [
        "llave=list(f[\"Data\"][\"Recording_0\"][\"AnalogStream\"].keys())\n",
        "print(llave)"
      ],
      "metadata": {
        "colab": {
          "base_uri": "https://localhost:8080/"
        },
        "id": "o97iaixZpyDu",
        "outputId": "ecc1ec04-fc7e-483d-af65-cbfa21e1b98d"
      },
      "execution_count": 47,
      "outputs": [
        {
          "output_type": "stream",
          "name": "stdout",
          "text": [
            "['Stream_0']\n"
          ]
        }
      ]
    },
    {
      "cell_type": "code",
      "source": [
        "nueva=list(f[\"Data\"][\"Recording_0\"][\"AnalogStream\"][\"Stream_0\"].keys())\n",
        "print(nueva)"
      ],
      "metadata": {
        "colab": {
          "base_uri": "https://localhost:8080/"
        },
        "id": "yuLbxPP8sNkG",
        "outputId": "9f5e38ff-ccc2-4bfd-8cbc-9875d47a1336"
      },
      "execution_count": 48,
      "outputs": [
        {
          "output_type": "stream",
          "name": "stdout",
          "text": [
            "['ChannelData', 'ChannelDataTimeStamps', 'InfoChannel']\n"
          ]
        }
      ]
    },
    {
      "cell_type": "code",
      "source": [
        "import h5py\n",
        "\n",
        "def imprimir_claves_grupo(grupo, ruta=\"\"):\n",
        "    \"\"\"\n",
        "    Función recursiva para imprimir todas las claves en un grupo HDF5.\n",
        "    \"\"\"\n",
        "    for clave in grupo.keys():\n",
        "        ruta_actual = ruta + \"/\" + clave if ruta else clave  # Construir la ruta completa\n",
        "        if isinstance(grupo[clave], h5py.Group):\n",
        "            # Si es un grupo, llamar a la función recursivamente para explorar sus claves\n",
        "            imprimir_claves_grupo(grupo[clave], ruta_actual)\n",
        "        else:\n",
        "            # Si es un conjunto de datos, imprimir información sobre la clave\n",
        "            print(f\"Clave: {ruta_actual}, Forma: {grupo[clave].shape}, Tipo: {grupo[clave].dtype}\")\n",
        "\n",
        "# Abrir el archivo HDF5 en modo de solo lectura\n",
        "with h5py.File('Prueba.h5', 'r') as archivo_hdf5:\n",
        "    # Llamar a la función para imprimir todas las claves en el grupo raíz\n",
        "    imprimir_claves_grupo(archivo_hdf5)\n"
      ],
      "metadata": {
        "colab": {
          "base_uri": "https://localhost:8080/"
        },
        "id": "A4evm2vJtQCz",
        "outputId": "aa7486e4-c7d2-4cdf-b222-0ce6099c9007"
      },
      "execution_count": 49,
      "outputs": [
        {
          "output_type": "stream",
          "name": "stdout",
          "text": [
            "Clave: Data/Recording_0/AnalogStream/Stream_0/ChannelData, Forma: (9, 6000000), Tipo: int32\n",
            "Clave: Data/Recording_0/AnalogStream/Stream_0/ChannelDataTimeStamps, Forma: (1, 3), Tipo: int64\n",
            "Clave: Data/Recording_0/AnalogStream/Stream_0/InfoChannel, Forma: (9,), Tipo: [('ChannelID', '<i4'), ('RowIndex', '<i4'), ('GroupID', '<i4'), ('ElectrodeGroup', '<i4'), ('Label', 'O'), ('RawDataType', 'O'), ('Unit', 'O'), ('Exponent', '<i4'), ('ADZero', '<i4'), ('Tick', '<i8'), ('ConversionFactor', '<i8'), ('ADCBits', '<i4'), ('HighPassFilterType', 'O'), ('HighPassFilterCutOffFrequency', 'O'), ('HighPassFilterOrder', '<i4'), ('LowPassFilterType', 'O'), ('LowPassFilterCutOffFrequency', 'O'), ('LowPassFilterOrder', '<i4')]\n"
          ]
        }
      ]
    }
  ]
}