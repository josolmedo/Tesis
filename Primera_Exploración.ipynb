{
  "nbformat": 4,
  "nbformat_minor": 0,
  "metadata": {
    "colab": {
      "provenance": [],
      "authorship_tag": "ABX9TyMO/8HkK0zFtgUS76ZnnEgv",
      "include_colab_link": true
    },
    "kernelspec": {
      "name": "python3",
      "display_name": "Python 3"
    },
    "language_info": {
      "name": "python"
    }
  },
  "cells": [
    {
      "cell_type": "markdown",
      "metadata": {
        "id": "view-in-github",
        "colab_type": "text"
      },
      "source": [
        "<a href=\"https://colab.research.google.com/github/josolmedo/Tesis/blob/main/Primera_Exploraci%C3%B3n.ipynb\" target=\"_parent\"><img src=\"https://colab.research.google.com/assets/colab-badge.svg\" alt=\"Open In Colab\"/></a>"
      ]
    },
    {
      "cell_type": "markdown",
      "source": [
        "Los archivos con terminación .h5 son frecuentemente usados por la comunidad científica, contienen grandes cantidados de datos y están compuestos por dos tipos de datos: Grupos (Contienen otros grupos y datasets) y Datasets (colecciones de datos en forma de arreglo)\n",
        "\n",
        "\n",
        "Los grupos son como diccionarios.\n",
        "Los datasets como arreglos de tipo Numpy."
      ],
      "metadata": {
        "id": "djqp-EZEws7l"
      }
    },
    {
      "cell_type": "code",
      "source": [
        "import h5py #Importamos biblioteca para el manejo de archivos .h5\n",
        "f = h5py.File('Prueba.h5', 'r') # Abrir el archivo H5 en modo de solo lectura\n",
        "list(f.keys()) #Listo los grupos disponibles en el archivo (a primera vista)"
      ],
      "metadata": {
        "id": "NwysPcAsWP_X",
        "colab": {
          "base_uri": "https://localhost:8080/"
        },
        "outputId": "792039bd-e935-4276-a900-eacb923e57c7"
      },
      "execution_count": 2,
      "outputs": [
        {
          "output_type": "execute_result",
          "data": {
            "text/plain": [
              "['Data']"
            ]
          },
          "metadata": {},
          "execution_count": 2
        }
      ]
    },
    {
      "cell_type": "code",
      "source": [
        "GRUPO=f[\"Data\"] #Guardo el grupo para mostrar su contenido\n",
        "print(GRUPO) #Mostramos que el grupo \"Data\" contiene otr grupo en su interior."
      ],
      "metadata": {
        "colab": {
          "base_uri": "https://localhost:8080/"
        },
        "id": "k7UZjY6EvdUw",
        "outputId": "d21d9594-b75c-4649-f3c5-facc0aa3ca48"
      },
      "execution_count": 3,
      "outputs": [
        {
          "output_type": "stream",
          "name": "stdout",
          "text": [
            "<HDF5 group \"/Data\" (1 members)>\n"
          ]
        }
      ]
    },
    {
      "cell_type": "code",
      "source": [
        "claves_en_grupo_Data=list(f[\"Data\"].keys()) #Obtenemos la lista de claves en el grupo \"Data\"\n",
        "\n",
        "print(\"Claves en el grupo 'Data':\", claves_en_grupo_Data) # Imprimimos las claves\n",
        "\n",
        "#Ciclo para iterar sobre las claves e imprimir información sobre cada conjunto de datos o subgrupo\n",
        "for llaves in claves_en_grupo_Data:\n",
        "    subgrupo = f[\"Data\"][llaves] #Si es un subgrupo tendra la nomeclatura presentada\n",
        "    '''La función isinstance(obj, class) devuelve True si obj es una instancia\n",
        "     de la clase especificada y False en caso contrario.\n",
        "     En este contexto, se utiliza para determinar si subgrupo es un conjunto de datos o un subgrupo. '''\n",
        "    if isinstance(subgrupo, h5py.Dataset): #Si es un dataset\n",
        "    #Imprimir si es un dataset (conjuntod e datos)\n",
        "        print(f\"{llaves} es un conjunto de datos con forma {subgrupo.shape} y tipo {subgrupo.dtype}\")\n",
        "    elif isinstance(subgrupo, h5py.Group): #Si es un subgrupo\n",
        "    #Imprimir que es un subgrupo que contiene las claves presentadas\n",
        "        print(f\"{llaves} es un subgrupo con las siguientes claves: {list(subgrupo.keys())}\")\n",
        "\n",
        "# Cierra el archivo HDF5 después de usarlo\n",
        "#f.close()\n"
      ],
      "metadata": {
        "id": "azEEGJeJWQFc",
        "colab": {
          "base_uri": "https://localhost:8080/"
        },
        "outputId": "cd0f81dc-721d-4c7f-84a7-8ca415e1b644"
      },
      "execution_count": 7,
      "outputs": [
        {
          "output_type": "stream",
          "name": "stdout",
          "text": [
            "Claves en el grupo 'Data': ['Recording_0']\n",
            "Recording_0 es un subgrupo con las siguientes claves: ['AnalogStream']\n"
          ]
        }
      ]
    },
    {
      "cell_type": "code",
      "source": [
        "'''Analizamos si hay más llaves contenidas'''\n",
        "siguiente_llave=list(f[\"Data\"][\"Recording_0\"][\"AnalogStream\"].keys())\n",
        "print(siguiente_llave)"
      ],
      "metadata": {
        "colab": {
          "base_uri": "https://localhost:8080/"
        },
        "id": "o97iaixZpyDu",
        "outputId": "eb5f548c-5315-452d-fd6f-841ebec65b04"
      },
      "execution_count": 11,
      "outputs": [
        {
          "output_type": "stream",
          "name": "stdout",
          "text": [
            "['Stream_0']\n"
          ]
        }
      ]
    },
    {
      "cell_type": "code",
      "source": [
        "'''Analizamos si hay más llaves contenidas'''\n",
        "otra_llave=list(f[\"Data\"][\"Recording_0\"][\"AnalogStream\"][\"Stream_0\"].keys())\n",
        "print(otra_llave)"
      ],
      "metadata": {
        "colab": {
          "base_uri": "https://localhost:8080/"
        },
        "id": "yuLbxPP8sNkG",
        "outputId": "a763ec28-eac8-45ca-c234-ae2a5dbe0aa2"
      },
      "execution_count": 12,
      "outputs": [
        {
          "output_type": "stream",
          "name": "stdout",
          "text": [
            "['ChannelData', 'ChannelDataTimeStamps', 'InfoChannel']\n"
          ]
        }
      ]
    },
    {
      "cell_type": "markdown",
      "source": [
        "Cansado de hacer un análisis de llave por llave, es mejor hacer un ciclo para ahondar en todas las llaves contenidas en el grupo principal, para ver los datasets y subgrupos.\n"
      ],
      "metadata": {
        "id": "3CyAVVKadSkf"
      }
    },
    {
      "cell_type": "code",
      "source": [
        "def imprimir_claves_grupo(grupo, ruta=\"\"):\n",
        "    \"\"\"\n",
        "    Define una función llamada imprimir_claves_grupo que toma dos argumentos:\n",
        "    grupo, que es el grupo HDF5 que se va a explorar, y\n",
        "    ruta, que es una cadena opcional que representa la ruta hasta el grupo actual en términos de claves.\n",
        "    \"\"\"\n",
        "    for clave in grupo.keys(): #Para cada clave en el grupo actual\n",
        "        ruta_actual = ruta + \"/\" + clave if ruta else clave  # Construir la ruta completa\n",
        "        if isinstance(grupo[clave], h5py.Group):\n",
        "            # Si es un grupo, llamar a la función recursivamente para explorar sus claves\n",
        "            imprimir_claves_grupo(grupo[clave], ruta_actual)\n",
        "        else:\n",
        "            # Si es un conjunto de datos, imprimir información sobre la clave\n",
        "            print(f\"Clave: {ruta_actual}, Forma: {grupo[clave].shape}, Tipo: {grupo[clave].dtype}\")\n",
        "\n",
        "# Abrir el archivo HDF5 en modo de solo lectura\n",
        "with h5py.File('Prueba.h5', 'r') as archivo_hdf5:\n",
        "    # Llamar a la función para imprimir todas las claves en el grupo raíz\n",
        "    imprimir_claves_grupo(archivo_hdf5)\n"
      ],
      "metadata": {
        "colab": {
          "base_uri": "https://localhost:8080/"
        },
        "id": "A4evm2vJtQCz",
        "outputId": "45b210d9-030b-4e13-c91a-38afed0a5fbe"
      },
      "execution_count": 21,
      "outputs": [
        {
          "output_type": "stream",
          "name": "stdout",
          "text": [
            "Clave: Data/Recording_0/AnalogStream/Stream_0/ChannelData, Forma: (9, 6000000), Tipo: int32\n",
            "Clave: Data/Recording_0/AnalogStream/Stream_0/ChannelDataTimeStamps, Forma: (1, 3), Tipo: int64\n",
            "Clave: Data/Recording_0/AnalogStream/Stream_0/InfoChannel, Forma: (9,), Tipo: [('ChannelID', '<i4'), ('RowIndex', '<i4'), ('GroupID', '<i4'), ('ElectrodeGroup', '<i4'), ('Label', 'O'), ('RawDataType', 'O'), ('Unit', 'O'), ('Exponent', '<i4'), ('ADZero', '<i4'), ('Tick', '<i8'), ('ConversionFactor', '<i8'), ('ADCBits', '<i4'), ('HighPassFilterType', 'O'), ('HighPassFilterCutOffFrequency', 'O'), ('HighPassFilterOrder', '<i4'), ('LowPassFilterType', 'O'), ('LowPassFilterCutOffFrequency', 'O'), ('LowPassFilterOrder', '<i4')]\n"
          ]
        }
      ]
    },
    {
      "cell_type": "code",
      "source": [
        "channel_data = f[\"Data\"][\"Recording_0\"][\"AnalogStream\"][\"Stream_0\"][\"ChannelData\"]\n",
        "# Ahora 'channel_data' contiene el conjunto de datos 'ChannelData'\n",
        "\n",
        "timestamps_data = f[\"Data\"][\"Recording_0\"][\"AnalogStream\"][\"Stream_0\"][\"ChannelDataTimeStamps\"]\n",
        "# Ahora 'timestamps_data' contiene el conjunto de datos 'ChannelDataTimeStamps'\n",
        "\n",
        "info_channel_data = f[\"Data\"][\"Recording_0\"][\"AnalogStream\"][\"Stream_0\"][\"InfoChannel\"]\n",
        "# Ahora 'info_channel_data' contiene el conjunto de datos 'InfoChannel'\n"
      ],
      "metadata": {
        "id": "OQP6cceLvwhA"
      },
      "execution_count": 14,
      "outputs": []
    },
    {
      "cell_type": "code",
      "source": [
        "# Abrir el archivo HDF5 en modo de solo lectura\n",
        "with h5py.File('Prueba.h5', 'r') as archivo_hdf5:\n",
        "    # Acceder al conjunto de datos 'ChannelData'\n",
        "    # Obtener los primeros 5 datos\n",
        "    primeros_5_datos = channel_data[:, :10]\n",
        "\n",
        "    # Imprimir los primeros 5 datos\n",
        "    print(\"Primeros 5 datos de ChannelData:\")\n",
        "    print(primeros_5_datos)"
      ],
      "metadata": {
        "colab": {
          "base_uri": "https://localhost:8080/"
        },
        "id": "jUI68VYiv0q3",
        "outputId": "8784f1ae-1072-42d2-d9c7-c15a2981dd4e"
      },
      "execution_count": 15,
      "outputs": [
        {
          "output_type": "stream",
          "name": "stdout",
          "text": [
            "Primeros 5 datos de ChannelData:\n",
            "[[ -89 -140  -10    8  -38   65   52  -43   29   38]\n",
            " [ -72 -203 -203 -151 -145  -71  111  239  160   76]\n",
            " [ -10  -61  -86  -18   23   -8  -22   20   47  -15]\n",
            " [ -51 -100  -86  -86  -55   25   59   43   11  -16]\n",
            " [ -36  -92  -89  -61  -31   12   39   66   56   -2]\n",
            " [ -41  -79  -53  -77  -43   62   32   -5   59   65]\n",
            " [ -57  -87   -1  -11  -88   -9   94   65   -9  -31]\n",
            " [ -27  -92 -118  -97  -68   29   74   44   54   -7]\n",
            " [ -11  -97 -153  -57    6   27   56   55   19  -66]]\n"
          ]
        }
      ]
    },
    {
      "cell_type": "code",
      "source": [
        "type(channel_data)"
      ],
      "metadata": {
        "colab": {
          "base_uri": "https://localhost:8080/"
        },
        "id": "3gVOfcnJwBFb",
        "outputId": "d04b3d6f-c11e-4a14-8e96-dc3a266d69d4"
      },
      "execution_count": 16,
      "outputs": [
        {
          "output_type": "execute_result",
          "data": {
            "text/plain": [
              "h5py._hl.dataset.Dataset"
            ]
          },
          "metadata": {},
          "execution_count": 16
        }
      ]
    },
    {
      "cell_type": "code",
      "source": [
        "with h5py.File('Prueba.h5', 'r') as archivo_hdf5:\n",
        "    # Acceder al conjunto de datos 'ChannelData'\n",
        "    channel_data = archivo_hdf5[\"Data\"][\"Recording_0\"][\"AnalogStream\"][\"Stream_0\"][\"ChannelData\"]\n",
        "\n",
        "    # Imprimir información clave\n",
        "    print(\"Forma de ChannelData:\", channel_data.shape)\n",
        "\n",
        "    # Imprimir los primeros 5 valores de algunas filas y columnas\n",
        "    print(\"Primeros 10 valores de ChannelData:\")\n",
        "    for fila in range(min(9, channel_data.shape[0])):\n",
        "        fila_datos = channel_data[fila, :10]\n",
        "        print(f\"Fila {fila + 1}: {fila_datos}\")\n",
        "\n",
        "    # También puedes imprimir más información según sea necesario\n",
        "    # Puedes acceder a otros elementos, calcular estadísticas, etc."
      ],
      "metadata": {
        "colab": {
          "base_uri": "https://localhost:8080/"
        },
        "id": "qfAmPy5GwC9h",
        "outputId": "c652513f-a9cf-4fd0-a330-20acd48e4826"
      },
      "execution_count": 18,
      "outputs": [
        {
          "output_type": "stream",
          "name": "stdout",
          "text": [
            "Forma de ChannelData: (9, 6000000)\n",
            "Primeros 10 valores de ChannelData:\n",
            "Fila 1: [ -89 -140  -10    8  -38   65   52  -43   29   38]\n",
            "Fila 2: [ -72 -203 -203 -151 -145  -71  111  239  160   76]\n",
            "Fila 3: [-10 -61 -86 -18  23  -8 -22  20  47 -15]\n",
            "Fila 4: [ -51 -100  -86  -86  -55   25   59   43   11  -16]\n",
            "Fila 5: [-36 -92 -89 -61 -31  12  39  66  56  -2]\n",
            "Fila 6: [-41 -79 -53 -77 -43  62  32  -5  59  65]\n",
            "Fila 7: [-57 -87  -1 -11 -88  -9  94  65  -9 -31]\n",
            "Fila 8: [ -27  -92 -118  -97  -68   29   74   44   54   -7]\n",
            "Fila 9: [ -11  -97 -153  -57    6   27   56   55   19  -66]\n"
          ]
        }
      ]
    },
    {
      "cell_type": "code",
      "source": [
        "with h5py.File('Prueba.h5', 'r') as archivo_hdf5:\n",
        "    # Acceder al conjunto de datos 'ChannelDataTimeStamps'\n",
        "    timestamps_data = archivo_hdf5[\"Data\"][\"Recording_0\"][\"AnalogStream\"][\"Stream_0\"][\"ChannelDataTimeStamps\"]\n",
        "\n",
        "    # Imprimir información clave\n",
        "    print(\"Forma de ChannelDataTimeStamps:\", timestamps_data.shape)\n",
        "\n",
        "    # Imprimir los primeros 5 valores\n",
        "    print(\"Primeros 5 valores de ChannelDataTimeStamps:\", timestamps_data[:, :10])\n",
        "    # Puedes agregar más información según sea necesario"
      ],
      "metadata": {
        "colab": {
          "base_uri": "https://localhost:8080/"
        },
        "id": "HHYouPzbwiMO",
        "outputId": "db4e6ebe-9cf3-43cb-e780-0b4cb674e602"
      },
      "execution_count": 19,
      "outputs": [
        {
          "output_type": "stream",
          "name": "stdout",
          "text": [
            "Forma de ChannelDataTimeStamps: (1, 3)\n",
            "Primeros 5 valores de ChannelDataTimeStamps: [[      0       0 5999999]]\n"
          ]
        }
      ]
    },
    {
      "cell_type": "code",
      "source": [
        "with h5py.File('Prueba.h5', 'r') as archivo_hdf5:\n",
        "    # Acceder al conjunto de datos 'InfoChannel'\n",
        "    info_channel_data = archivo_hdf5[\"Data\"][\"Recording_0\"][\"AnalogStream\"][\"Stream_0\"][\"InfoChannel\"]\n",
        "\n",
        "    # Imprimir información clave\n",
        "    print(\"Forma de InfoChannel:\", info_channel_data.shape)\n",
        "\n",
        "    # Imprimir algunos valores de los primeros elementos en la estructura\n",
        "    print(\"Algunos valores de InfoChannel:\")\n",
        "    for i in range(min(5, info_channel_data.shape[0])):\n",
        "        print(f\"Elemento {i + 1}: {info_channel_data[i]}\")\n",
        "    # Puedes agregar más información según sea necesario"
      ],
      "metadata": {
        "colab": {
          "base_uri": "https://localhost:8080/"
        },
        "id": "JtUqGui3wj22",
        "outputId": "f80107b8-ab4b-40ff-c93b-d56dcb24aea4"
      },
      "execution_count": 20,
      "outputs": [
        {
          "output_type": "stream",
          "name": "stdout",
          "text": [
            "Forma de InfoChannel: (9,)\n",
            "Algunos valores de InfoChannel:\n",
            "Elemento 1: (82, 0, 0, 0, b'K5', b'Int', b'V', -12, 0, 100, 59605, 24, b'', b'-1', -1, b'', b'-1', -1)\n",
            "Elemento 2: (83, 1, 0, 0, b'L5', b'Int', b'V', -12, 0, 100, 59605, 24, b'', b'-1', -1, b'', b'-1', -1)\n",
            "Elemento 3: (84, 2, 0, 0, b'M5', b'Int', b'V', -12, 0, 100, 59605, 24, b'', b'-1', -1, b'', b'-1', -1)\n",
            "Elemento 4: (86, 3, 0, 0, b'K6', b'Int', b'V', -12, 0, 100, 59605, 24, b'', b'-1', -1, b'', b'-1', -1)\n",
            "Elemento 5: (87, 4, 0, 0, b'L6', b'Int', b'V', -12, 0, 100, 59605, 24, b'', b'-1', -1, b'', b'-1', -1)\n"
          ]
        }
      ]
    }
  ]
}