{
  "nbformat": 4,
  "nbformat_minor": 0,
  "metadata": {
    "colab": {
      "provenance": [],
      "authorship_tag": "ABX9TyMvgcNP1sWmtmdOQAjzSdih",
      "include_colab_link": true
    },
    "kernelspec": {
      "name": "python3",
      "display_name": "Python 3"
    },
    "language_info": {
      "name": "python"
    }
  },
  "cells": [
    {
      "cell_type": "markdown",
      "metadata": {
        "id": "view-in-github",
        "colab_type": "text"
      },
      "source": [
        "<a href=\"https://colab.research.google.com/github/josolmedo/Tesis/blob/main/Primera_Exploraci%C3%B3n.ipynb\" target=\"_parent\"><img src=\"https://colab.research.google.com/assets/colab-badge.svg\" alt=\"Open In Colab\"/></a>"
      ]
    },
    {
      "cell_type": "markdown",
      "source": [
        "Los archivos con terminación .h5 son frecuentemente usados por la comunidad científica, contienen grandes cantidados de datos y están compuestos por dos tipos de datos: Grupos (Contienen otros grupos y datasets) y Datasets (colecciones de datos en forma de arreglo)\n",
        "\n",
        "\n",
        "Los grupos son como diccionarios.\n",
        "Los datasets como arreglos de tipo Numpy."
      ],
      "metadata": {
        "id": "djqp-EZEws7l"
      }
    },
    {
      "cell_type": "code",
      "source": [
        "import h5py #Importamos biblioteca para el manejo de archivos .h5\n",
        "f = h5py.File('Prueba.h5', 'r') # Abrir el archivo H5 en modo de solo lectura\n",
        "list(f.keys()) #Listo los grupos disponibles en el archivo (a primera vista)"
      ],
      "metadata": {
        "id": "NwysPcAsWP_X",
        "colab": {
          "base_uri": "https://localhost:8080/"
        },
        "outputId": "3afb7e40-0ad5-464f-b12a-198c22278bdb"
      },
      "execution_count": 1,
      "outputs": [
        {
          "output_type": "execute_result",
          "data": {
            "text/plain": [
              "['Data']"
            ]
          },
          "metadata": {},
          "execution_count": 1
        }
      ]
    },
    {
      "cell_type": "code",
      "source": [
        "dato=f[\"Data\"] #Guardo el grupo para mostrar su contenido\n",
        "print(dato) #Mostramos que el grupo \"Data\" contiene otr grupo en su interior."
      ],
      "metadata": {
        "colab": {
          "base_uri": "https://localhost:8080/"
        },
        "id": "k7UZjY6EvdUw",
        "outputId": "756c2758-4cd4-4f60-a135-cb0932e9e326"
      },
      "execution_count": 2,
      "outputs": [
        {
          "output_type": "stream",
          "name": "stdout",
          "text": [
            "<HDF5 group \"/Data\" (1 members)>\n"
          ]
        }
      ]
    },
    {
      "cell_type": "code",
      "source": [
        "# Obtener la lista de claves en el grupo \"Data\"\n",
        "keys_in_data_group = list(f[\"Data\"].keys())\n",
        "\n",
        "# Imprimir las claves\n",
        "print(\"Claves en el grupo 'Data':\", keys_in_data_group)\n",
        "\n",
        "# Iterar sobre las claves e imprimir información sobre cada conjunto de datos o subgrupo\n",
        "for key in keys_in_data_group:\n",
        "    item = f[\"Data\"][key]\n",
        "    if isinstance(item, h5py.Dataset):\n",
        "        print(f\"{key} es un conjunto de datos con forma {item.shape} y tipo {item.dtype}\")\n",
        "    elif isinstance(item, h5py.Group):\n",
        "        print(f\"{key} es un subgrupo con las siguientes claves: {list(item.keys())}\")\n",
        "\n",
        "# Cierra el archivo HDF5 después de usarlo\n",
        "#f.close()\n"
      ],
      "metadata": {
        "id": "azEEGJeJWQFc",
        "colab": {
          "base_uri": "https://localhost:8080/"
        },
        "outputId": "d93336b3-60cd-4f1f-b135-c3fc1d72c57d"
      },
      "execution_count": 3,
      "outputs": [
        {
          "output_type": "stream",
          "name": "stdout",
          "text": [
            "Claves en el grupo 'Data': ['Recording_0']\n",
            "Recording_0 es un subgrupo con las siguientes claves: ['AnalogStream']\n"
          ]
        }
      ]
    },
    {
      "cell_type": "code",
      "source": [
        "llave=list(f[\"Data\"][\"Recording_0\"][\"AnalogStream\"].keys())\n",
        "print(llave)"
      ],
      "metadata": {
        "colab": {
          "base_uri": "https://localhost:8080/"
        },
        "id": "o97iaixZpyDu",
        "outputId": "709dd8b8-2971-482d-aece-ee129da370ea"
      },
      "execution_count": 4,
      "outputs": [
        {
          "output_type": "stream",
          "name": "stdout",
          "text": [
            "['Stream_0']\n"
          ]
        }
      ]
    },
    {
      "cell_type": "code",
      "source": [
        "nueva=list(f[\"Data\"][\"Recording_0\"][\"AnalogStream\"][\"Stream_0\"].keys())\n",
        "print(nueva)"
      ],
      "metadata": {
        "colab": {
          "base_uri": "https://localhost:8080/"
        },
        "id": "yuLbxPP8sNkG",
        "outputId": "965bf051-c719-432f-d656-48e5040495a6"
      },
      "execution_count": 5,
      "outputs": [
        {
          "output_type": "stream",
          "name": "stdout",
          "text": [
            "['ChannelData', 'ChannelDataTimeStamps', 'InfoChannel']\n"
          ]
        }
      ]
    },
    {
      "cell_type": "code",
      "source": [
        "def imprimir_claves_grupo(grupo, ruta=\"\"):\n",
        "    \"\"\"\n",
        "    Función recursiva para imprimir todas las claves en un grupo HDF5.\n",
        "    \"\"\"\n",
        "    for clave in grupo.keys():\n",
        "        ruta_actual = ruta + \"/\" + clave if ruta else clave  # Construir la ruta completa\n",
        "        if isinstance(grupo[clave], h5py.Group):\n",
        "            # Si es un grupo, llamar a la función recursivamente para explorar sus claves\n",
        "            imprimir_claves_grupo(grupo[clave], ruta_actual)\n",
        "        else:\n",
        "            # Si es un conjunto de datos, imprimir información sobre la clave\n",
        "            print(f\"Clave: {ruta_actual}, Forma: {grupo[clave].shape}, Tipo: {grupo[clave].dtype}\")\n",
        "\n",
        "# Abrir el archivo HDF5 en modo de solo lectura\n",
        "with h5py.File('Prueba.h5', 'r') as archivo_hdf5:\n",
        "    # Llamar a la función para imprimir todas las claves en el grupo raíz\n",
        "    imprimir_claves_grupo(archivo_hdf5)\n"
      ],
      "metadata": {
        "colab": {
          "base_uri": "https://localhost:8080/"
        },
        "id": "A4evm2vJtQCz",
        "outputId": "ca1bf040-4781-4ff6-92e3-f5bc33b551ce"
      },
      "execution_count": 6,
      "outputs": [
        {
          "output_type": "stream",
          "name": "stdout",
          "text": [
            "Clave: Data/Recording_0/AnalogStream/Stream_0/ChannelData, Forma: (9, 6000000), Tipo: int32\n",
            "Clave: Data/Recording_0/AnalogStream/Stream_0/ChannelDataTimeStamps, Forma: (1, 3), Tipo: int64\n",
            "Clave: Data/Recording_0/AnalogStream/Stream_0/InfoChannel, Forma: (9,), Tipo: [('ChannelID', '<i4'), ('RowIndex', '<i4'), ('GroupID', '<i4'), ('ElectrodeGroup', '<i4'), ('Label', 'O'), ('RawDataType', 'O'), ('Unit', 'O'), ('Exponent', '<i4'), ('ADZero', '<i4'), ('Tick', '<i8'), ('ConversionFactor', '<i8'), ('ADCBits', '<i4'), ('HighPassFilterType', 'O'), ('HighPassFilterCutOffFrequency', 'O'), ('HighPassFilterOrder', '<i4'), ('LowPassFilterType', 'O'), ('LowPassFilterCutOffFrequency', 'O'), ('LowPassFilterOrder', '<i4')]\n"
          ]
        }
      ]
    },
    {
      "cell_type": "code",
      "source": [
        "channel_data = f[\"Data\"][\"Recording_0\"][\"AnalogStream\"][\"Stream_0\"][\"ChannelData\"]\n",
        "# Ahora 'channel_data' contiene el conjunto de datos 'ChannelData'\n",
        "timestamps_data = f[\"Data\"][\"Recording_0\"][\"AnalogStream\"][\"Stream_0\"][\"ChannelDataTimeStamps\"]\n",
        "# Ahora 'timestamps_data' contiene el conjunto de datos 'ChannelDataTimeStamps'\n",
        "info_channel_data = f[\"Data\"][\"Recording_0\"][\"AnalogStream\"][\"Stream_0\"][\"InfoChannel\"]\n",
        "# Ahora 'info_channel_data' contiene el conjunto de datos 'InfoChannel'\n"
      ],
      "metadata": {
        "id": "OQP6cceLvwhA"
      },
      "execution_count": 7,
      "outputs": []
    },
    {
      "cell_type": "code",
      "source": [
        "# Abrir el archivo HDF5 en modo de solo lectura\n",
        "with h5py.File('Prueba.h5', 'r') as archivo_hdf5:\n",
        "    # Acceder al conjunto de datos 'ChannelData'\n",
        "    channel_data = archivo_hdf5[\"Data\"][\"Recording_0\"][\"AnalogStream\"][\"Stream_0\"][\"ChannelData\"]\n",
        "\n",
        "    # Obtener los primeros 5 datos\n",
        "    primeros_5_datos = channel_data[:, :5]\n",
        "\n",
        "    # Imprimir los primeros 5 datos\n",
        "    print(\"Primeros 5 datos de ChannelData:\")\n",
        "    print(primeros_5_datos)"
      ],
      "metadata": {
        "colab": {
          "base_uri": "https://localhost:8080/"
        },
        "id": "jUI68VYiv0q3",
        "outputId": "1c1a7bdc-97a5-4027-830c-8c0deb490640"
      },
      "execution_count": 8,
      "outputs": [
        {
          "output_type": "stream",
          "name": "stdout",
          "text": [
            "Primeros 5 datos de ChannelData:\n",
            "[[ -89 -140  -10    8  -38]\n",
            " [ -72 -203 -203 -151 -145]\n",
            " [ -10  -61  -86  -18   23]\n",
            " [ -51 -100  -86  -86  -55]\n",
            " [ -36  -92  -89  -61  -31]\n",
            " [ -41  -79  -53  -77  -43]\n",
            " [ -57  -87   -1  -11  -88]\n",
            " [ -27  -92 -118  -97  -68]\n",
            " [ -11  -97 -153  -57    6]]\n"
          ]
        }
      ]
    },
    {
      "cell_type": "code",
      "source": [],
      "metadata": {
        "colab": {
          "base_uri": "https://localhost:8080/",
          "height": 175
        },
        "id": "4Sl8-7evwPo8",
        "outputId": "12ce2824-ea04-47b6-b1a3-b681fb4168c0"
      },
      "execution_count": 11,
      "outputs": [
        {
          "output_type": "error",
          "ename": "AttributeError",
          "evalue": "'Dataset' object has no attribute 'head'",
          "traceback": [
            "\u001b[0;31m---------------------------------------------------------------------------\u001b[0m",
            "\u001b[0;31mAttributeError\u001b[0m                            Traceback (most recent call last)",
            "\u001b[0;32m<ipython-input-11-de97ba18f149>\u001b[0m in \u001b[0;36m<cell line: 1>\u001b[0;34m()\u001b[0m\n\u001b[0;32m----> 1\u001b[0;31m \u001b[0mchannel_data\u001b[0m\u001b[0;34m.\u001b[0m\u001b[0mhead\u001b[0m\u001b[0;34m(\u001b[0m\u001b[0;34m)\u001b[0m\u001b[0;34m\u001b[0m\u001b[0;34m\u001b[0m\u001b[0m\n\u001b[0m",
            "\u001b[0;31mAttributeError\u001b[0m: 'Dataset' object has no attribute 'head'"
          ]
        }
      ]
    },
    {
      "cell_type": "code",
      "source": [
        "type(channel_data)"
      ],
      "metadata": {
        "colab": {
          "base_uri": "https://localhost:8080/"
        },
        "id": "3gVOfcnJwBFb",
        "outputId": "99e1cfd7-7059-418e-81bf-39de4c2344d1"
      },
      "execution_count": 9,
      "outputs": [
        {
          "output_type": "execute_result",
          "data": {
            "text/plain": [
              "h5py._hl.dataset.Dataset"
            ]
          },
          "metadata": {},
          "execution_count": 9
        }
      ]
    },
    {
      "cell_type": "code",
      "source": [
        "with h5py.File('Prueba.h5', 'r') as archivo_hdf5:\n",
        "    # Acceder al conjunto de datos 'ChannelData'\n",
        "    channel_data = archivo_hdf5[\"Data\"][\"Recording_0\"][\"AnalogStream\"][\"Stream_0\"][\"ChannelData\"]\n",
        "\n",
        "    # Imprimir información clave\n",
        "    print(\"Forma de ChannelData:\", channel_data.shape)\n",
        "\n",
        "    # Imprimir los primeros 5 valores de algunas filas y columnas\n",
        "    print(\"Primeros 5 valores de ChannelData:\")\n",
        "    for fila in range(min(9, channel_data.shape[0])):\n",
        "        fila_datos = channel_data[fila, :5]\n",
        "        print(f\"Fila {fila + 1}: {fila_datos}\")\n",
        "\n",
        "    # También puedes imprimir más información según sea necesario\n",
        "    # Puedes acceder a otros elementos, calcular estadísticas, etc."
      ],
      "metadata": {
        "colab": {
          "base_uri": "https://localhost:8080/"
        },
        "id": "qfAmPy5GwC9h",
        "outputId": "108a47e8-dbb7-4475-9900-e02c08f0af01"
      },
      "execution_count": 10,
      "outputs": [
        {
          "output_type": "stream",
          "name": "stdout",
          "text": [
            "Forma de ChannelData: (9, 6000000)\n",
            "Primeros 5 valores de ChannelData:\n",
            "Fila 1: [ -89 -140  -10    8  -38]\n",
            "Fila 2: [ -72 -203 -203 -151 -145]\n",
            "Fila 3: [-10 -61 -86 -18  23]\n",
            "Fila 4: [ -51 -100  -86  -86  -55]\n",
            "Fila 5: [-36 -92 -89 -61 -31]\n",
            "Fila 6: [-41 -79 -53 -77 -43]\n",
            "Fila 7: [-57 -87  -1 -11 -88]\n",
            "Fila 8: [ -27  -92 -118  -97  -68]\n",
            "Fila 9: [ -11  -97 -153  -57    6]\n"
          ]
        }
      ]
    },
    {
      "cell_type": "code",
      "source": [
        "with h5py.File('Prueba.h5', 'r') as archivo_hdf5:\n",
        "    # Acceder al conjunto de datos 'ChannelDataTimeStamps'\n",
        "    timestamps_data = archivo_hdf5[\"Data\"][\"Recording_0\"][\"AnalogStream\"][\"Stream_0\"][\"ChannelDataTimeStamps\"]\n",
        "\n",
        "    # Imprimir información clave\n",
        "    print(\"Forma de ChannelDataTimeStamps:\", timestamps_data.shape)\n",
        "\n",
        "    # Imprimir los primeros 5 valores\n",
        "    print(\"Primeros 5 valores de ChannelDataTimeStamps:\", timestamps_data[:, :5])\n",
        "    # Puedes agregar más información según sea necesario"
      ],
      "metadata": {
        "colab": {
          "base_uri": "https://localhost:8080/"
        },
        "id": "HHYouPzbwiMO",
        "outputId": "99cb4544-067f-40b9-8895-5a57d6ea4342"
      },
      "execution_count": 12,
      "outputs": [
        {
          "output_type": "stream",
          "name": "stdout",
          "text": [
            "Forma de ChannelDataTimeStamps: (1, 3)\n",
            "Primeros 5 valores de ChannelDataTimeStamps: [[      0       0 5999999]]\n"
          ]
        }
      ]
    },
    {
      "cell_type": "code",
      "source": [
        "with h5py.File('Prueba.h5', 'r') as archivo_hdf5:\n",
        "    # Acceder al conjunto de datos 'InfoChannel'\n",
        "    info_channel_data = archivo_hdf5[\"Data\"][\"Recording_0\"][\"AnalogStream\"][\"Stream_0\"][\"InfoChannel\"]\n",
        "\n",
        "    # Imprimir información clave\n",
        "    print(\"Forma de InfoChannel:\", info_channel_data.shape)\n",
        "\n",
        "    # Imprimir algunos valores de los primeros elementos en la estructura\n",
        "    print(\"Algunos valores de InfoChannel:\")\n",
        "    for i in range(min(5, info_channel_data.shape[0])):\n",
        "        print(f\"Elemento {i + 1}: {info_channel_data[i]}\")\n",
        "    # Puedes agregar más información según sea necesario"
      ],
      "metadata": {
        "colab": {
          "base_uri": "https://localhost:8080/"
        },
        "id": "JtUqGui3wj22",
        "outputId": "0bdd6245-b8e7-49d1-920e-d63dfe81d124"
      },
      "execution_count": 13,
      "outputs": [
        {
          "output_type": "stream",
          "name": "stdout",
          "text": [
            "Forma de InfoChannel: (9,)\n",
            "Algunos valores de InfoChannel:\n",
            "Elemento 1: (82, 0, 0, 0, b'K5', b'Int', b'V', -12, 0, 100, 59605, 24, b'', b'-1', -1, b'', b'-1', -1)\n",
            "Elemento 2: (83, 1, 0, 0, b'L5', b'Int', b'V', -12, 0, 100, 59605, 24, b'', b'-1', -1, b'', b'-1', -1)\n",
            "Elemento 3: (84, 2, 0, 0, b'M5', b'Int', b'V', -12, 0, 100, 59605, 24, b'', b'-1', -1, b'', b'-1', -1)\n",
            "Elemento 4: (86, 3, 0, 0, b'K6', b'Int', b'V', -12, 0, 100, 59605, 24, b'', b'-1', -1, b'', b'-1', -1)\n",
            "Elemento 5: (87, 4, 0, 0, b'L6', b'Int', b'V', -12, 0, 100, 59605, 24, b'', b'-1', -1, b'', b'-1', -1)\n"
          ]
        }
      ]
    }
  ]
}