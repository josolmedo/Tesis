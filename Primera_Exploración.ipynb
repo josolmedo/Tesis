{
  "nbformat": 4,
  "nbformat_minor": 0,
  "metadata": {
    "colab": {
      "provenance": [],
      "authorship_tag": "ABX9TyMgNJrrz6YXX4jpd1eLendh",
      "include_colab_link": true
    },
    "kernelspec": {
      "name": "python3",
      "display_name": "Python 3"
    },
    "language_info": {
      "name": "python"
    }
  },
  "cells": [
    {
      "cell_type": "markdown",
      "metadata": {
        "id": "view-in-github",
        "colab_type": "text"
      },
      "source": [
        "<a href=\"https://colab.research.google.com/github/josolmedo/Tesis/blob/main/Primera_Exploraci%C3%B3n.ipynb\" target=\"_parent\"><img src=\"https://colab.research.google.com/assets/colab-badge.svg\" alt=\"Open In Colab\"/></a>"
      ]
    },
    {
      "cell_type": "markdown",
      "source": [
        "Los archivos con terminación .h5 son frecuentemente usados por la comunidad científica, contienen grandes cantidados de datos y están compuestos por dos tipos de datos: Grupos (Contienen otros grupos y datasets) y Datasets (colecciones de datos en forma de arreglo)\n",
        "\n",
        "\n",
        "Los grupos son como diccionarios.\n",
        "Los datasets como arreglos de tipo Numpy."
      ],
      "metadata": {
        "id": "djqp-EZEws7l"
      }
    },
    {
      "cell_type": "code",
      "source": [
        "import h5py #Importamos biblioteca para el manejo de archivos .h5\n",
        "import matplotlib.pyplot as plt #Importamos biblioteca para manejar gráficos\n",
        "f = h5py.File('Prueba.h5', 'r') # Abrir el archivo H5 en modo de solo lectura\n",
        "list(f.keys()) #Listo los grupos disponibles en el archivo (a primera vista)"
      ],
      "metadata": {
        "id": "NwysPcAsWP_X",
        "colab": {
          "base_uri": "https://localhost:8080/"
        },
        "outputId": "027bea1c-f43b-464f-bc7b-65b9d4f1d804"
      },
      "execution_count": 15,
      "outputs": [
        {
          "output_type": "execute_result",
          "data": {
            "text/plain": [
              "['Data']"
            ]
          },
          "metadata": {},
          "execution_count": 15
        }
      ]
    },
    {
      "cell_type": "code",
      "source": [
        "GRUPO=f[\"Data\"] #Guardo el grupo para mostrar su contenido\n",
        "print(GRUPO) #Mostramos que el grupo \"Data\" contiene otro grupo en su interior."
      ],
      "metadata": {
        "colab": {
          "base_uri": "https://localhost:8080/"
        },
        "id": "k7UZjY6EvdUw",
        "outputId": "7f581caf-dc53-4092-95fa-d2001e5693f6"
      },
      "execution_count": 2,
      "outputs": [
        {
          "output_type": "stream",
          "name": "stdout",
          "text": [
            "<HDF5 group \"/Data\" (1 members)>\n"
          ]
        }
      ]
    },
    {
      "cell_type": "code",
      "source": [
        "claves_en_grupo_Data=list(f[\"Data\"].keys()) #Obtenemos la lista de claves en el grupo \"Data\"\n",
        "\n",
        "print(\"Claves en el grupo 'Data':\", claves_en_grupo_Data) # Imprimimos las claves\n",
        "\n",
        "#Ciclo para iterar sobre las claves e imprimir información sobre cada conjunto de datos o subgrupo\n",
        "for llaves in claves_en_grupo_Data:\n",
        "    subgrupo = f[\"Data\"][llaves] #Si es un subgrupo tendra la nomeclatura presentada\n",
        "    '''La función isinstance(obj, class) devuelve True si obj es una instancia\n",
        "     de la clase especificada y False en caso contrario.\n",
        "     En este contexto, se utiliza para determinar si subgrupo es un conjunto de datos o un subgrupo. '''\n",
        "    if isinstance(subgrupo, h5py.Dataset): #Si es un dataset\n",
        "    #Imprimir si es un dataset (conjuntod e datos)\n",
        "        print(f\"{llaves} es un conjunto de datos con forma {subgrupo.shape} y tipo {subgrupo.dtype}\")\n",
        "    elif isinstance(subgrupo, h5py.Group): #Si es un subgrupo\n",
        "    #Imprimir que es un subgrupo que contiene las claves presentadas\n",
        "        print(f\"{llaves} es un subgrupo con las siguientes claves: {list(subgrupo.keys())}\")\n",
        "\n",
        "# Cierra el archivo HDF5 después de usarlo\n",
        "#f.close()\n"
      ],
      "metadata": {
        "id": "azEEGJeJWQFc",
        "colab": {
          "base_uri": "https://localhost:8080/"
        },
        "outputId": "8e1029e2-f35b-4681-8125-d6bc1bd6b530"
      },
      "execution_count": 3,
      "outputs": [
        {
          "output_type": "stream",
          "name": "stdout",
          "text": [
            "Claves en el grupo 'Data': ['Recording_0']\n",
            "Recording_0 es un subgrupo con las siguientes claves: ['AnalogStream']\n"
          ]
        }
      ]
    },
    {
      "cell_type": "code",
      "source": [
        "'''Analizamos si hay más llaves contenidas'''\n",
        "siguiente_llave=list(f[\"Data\"][\"Recording_0\"][\"AnalogStream\"].keys())\n",
        "print(siguiente_llave)"
      ],
      "metadata": {
        "colab": {
          "base_uri": "https://localhost:8080/"
        },
        "id": "o97iaixZpyDu",
        "outputId": "142fcff8-e8b4-495c-cfed-c2bd3a014b35"
      },
      "execution_count": 4,
      "outputs": [
        {
          "output_type": "stream",
          "name": "stdout",
          "text": [
            "['Stream_0']\n"
          ]
        }
      ]
    },
    {
      "cell_type": "code",
      "source": [
        "'''Analizamos si hay más llaves contenidas'''\n",
        "otra_llave=list(f[\"Data\"][\"Recording_0\"][\"AnalogStream\"][\"Stream_0\"].keys())\n",
        "print(otra_llave)"
      ],
      "metadata": {
        "colab": {
          "base_uri": "https://localhost:8080/"
        },
        "id": "yuLbxPP8sNkG",
        "outputId": "a89824f6-69af-4187-e18a-2d59238a5b70"
      },
      "execution_count": 5,
      "outputs": [
        {
          "output_type": "stream",
          "name": "stdout",
          "text": [
            "['ChannelData', 'ChannelDataTimeStamps', 'InfoChannel']\n"
          ]
        }
      ]
    },
    {
      "cell_type": "markdown",
      "source": [
        "Cansado de hacer un análisis de llave por llave, es mejor hacer un ciclo para ahondar en todas las llaves contenidas en el grupo principal, para ver los datasets y subgrupos.\n"
      ],
      "metadata": {
        "id": "3CyAVVKadSkf"
      }
    },
    {
      "cell_type": "code",
      "source": [
        "def imprimir_claves_grupo(grupo, ruta=\"\"):\n",
        "    \"\"\"\n",
        "    Define una función llamada imprimir_claves_grupo que toma dos argumentos:\n",
        "    grupo, que es el grupo HDF5 que se va a explorar, y\n",
        "    ruta, que es una cadena opcional que representa la ruta hasta el grupo actual en términos de claves.\n",
        "    \"\"\"\n",
        "    for clave in grupo.keys(): #Para cada clave en el grupo actual\n",
        "        ruta_actual = ruta + \"/\" + clave if ruta else clave  # Construir la ruta completa\n",
        "        if isinstance(grupo[clave], h5py.Group):\n",
        "            # Si es un grupo, llamar a la función recursivamente para explorar sus claves\n",
        "            imprimir_claves_grupo(grupo[clave], ruta_actual)\n",
        "        else:\n",
        "            # Si es un conjunto de datos, imprimir información sobre la clave\n",
        "            print(f\"Clave: {ruta_actual}, Forma: {grupo[clave].shape}, Tipo: {grupo[clave].dtype}\")\n",
        "\n",
        "# Abrir el archivo HDF5 en modo de solo lectura\n",
        "with h5py.File('Prueba.h5', 'r') as archivo_hdf5:\n",
        "    # Llamar a la función para imprimir todas las claves en el grupo raíz\n",
        "    imprimir_claves_grupo(archivo_hdf5)\n"
      ],
      "metadata": {
        "colab": {
          "base_uri": "https://localhost:8080/"
        },
        "id": "A4evm2vJtQCz",
        "outputId": "85d889ee-49ac-40e3-a689-99aeda7d6c1b"
      },
      "execution_count": 6,
      "outputs": [
        {
          "output_type": "stream",
          "name": "stdout",
          "text": [
            "Clave: Data/Recording_0/AnalogStream/Stream_0/ChannelData, Forma: (9, 6000000), Tipo: int32\n",
            "Clave: Data/Recording_0/AnalogStream/Stream_0/ChannelDataTimeStamps, Forma: (1, 3), Tipo: int64\n",
            "Clave: Data/Recording_0/AnalogStream/Stream_0/InfoChannel, Forma: (9,), Tipo: [('ChannelID', '<i4'), ('RowIndex', '<i4'), ('GroupID', '<i4'), ('ElectrodeGroup', '<i4'), ('Label', 'O'), ('RawDataType', 'O'), ('Unit', 'O'), ('Exponent', '<i4'), ('ADZero', '<i4'), ('Tick', '<i8'), ('ConversionFactor', '<i8'), ('ADCBits', '<i4'), ('HighPassFilterType', 'O'), ('HighPassFilterCutOffFrequency', 'O'), ('HighPassFilterOrder', '<i4'), ('LowPassFilterType', 'O'), ('LowPassFilterCutOffFrequency', 'O'), ('LowPassFilterOrder', '<i4')]\n"
          ]
        }
      ]
    },
    {
      "cell_type": "code",
      "source": [
        "channel_data = f[\"Data\"][\"Recording_0\"][\"AnalogStream\"][\"Stream_0\"][\"ChannelData\"]\n",
        "# Ahora 'channel_data' contiene el conjunto de datos 'ChannelData'\n",
        "\n",
        "timestamps_data = f[\"Data\"][\"Recording_0\"][\"AnalogStream\"][\"Stream_0\"][\"ChannelDataTimeStamps\"]\n",
        "# Ahora 'timestamps_data' contiene el conjunto de datos 'ChannelDataTimeStamps'\n",
        "\n",
        "info_channel_data = f[\"Data\"][\"Recording_0\"][\"AnalogStream\"][\"Stream_0\"][\"InfoChannel\"]\n",
        "# Ahora 'info_channel_data' contiene el conjunto de datos 'InfoChannel'\n"
      ],
      "metadata": {
        "id": "OQP6cceLvwhA"
      },
      "execution_count": 7,
      "outputs": []
    },
    {
      "cell_type": "code",
      "source": [
        "\n",
        "# Abrir el archivo HDF5 en modo de solo lectura\n",
        "with h5py.File('Prueba.h5', 'r') as archivo_hdf5:\n",
        "    # Acceder al conjunto de datos 'ChannelData'\n",
        "    # Obtener los primeros 5 datos\n",
        "    primeros_10_datos = channel_data[:, :10]\n",
        "\n",
        "    # Imprimir los primeros 5 datos\n",
        "    print(\"Primeros 10 datos de ChannelData:\")\n",
        "    print(primeros_10_datos)\n",
        "\n",
        "    primeros_1000_puntos = channel_data[0, :100]\n",
        "\n",
        "    # Crear un gráfico\n",
        "    plt.plot(primeros_1000_puntos)\n",
        "    plt.title(\"Datos del Canal 1\") #Primera fila\n",
        "    plt.xlabel(\"Índice del Punto\")\n",
        "    plt.ylabel(\"Valor del Punto\")\n",
        "    plt.show()\n"
      ],
      "metadata": {
        "colab": {
          "base_uri": "https://localhost:8080/",
          "height": 646
        },
        "id": "jUI68VYiv0q3",
        "outputId": "0d155862-3ef0-43e4-d03b-dd374537c6f0"
      },
      "execution_count": 31,
      "outputs": [
        {
          "output_type": "stream",
          "name": "stdout",
          "text": [
            "Primeros 10 datos de ChannelData:\n",
            "[[ -89 -140  -10    8  -38   65   52  -43   29   38]\n",
            " [ -72 -203 -203 -151 -145  -71  111  239  160   76]\n",
            " [ -10  -61  -86  -18   23   -8  -22   20   47  -15]\n",
            " [ -51 -100  -86  -86  -55   25   59   43   11  -16]\n",
            " [ -36  -92  -89  -61  -31   12   39   66   56   -2]\n",
            " [ -41  -79  -53  -77  -43   62   32   -5   59   65]\n",
            " [ -57  -87   -1  -11  -88   -9   94   65   -9  -31]\n",
            " [ -27  -92 -118  -97  -68   29   74   44   54   -7]\n",
            " [ -11  -97 -153  -57    6   27   56   55   19  -66]]\n"
          ]
        },
        {
          "output_type": "display_data",
          "data": {
            "text/plain": [
              "<Figure size 640x480 with 1 Axes>"
            ],
            "image/png": "[encoded data removed]"
          },
          "metadata": {}
        }
      ]
    },
    {
      "cell_type": "code",
      "source": [
        "type(channel_data)"
      ],
      "metadata": {
        "colab": {
          "base_uri": "https://localhost:8080/",
          "height": 121
        },
        "id": "3gVOfcnJwBFb",
        "outputId": "03c1bf2e-a0f7-4142-b92d-991eec7bc60b"
      },
      "execution_count": 9,
      "outputs": [
        {
          "output_type": "execute_result",
          "data": {
            "text/plain": [
              "h5py._hl.dataset.Dataset"
            ],
            "text/html": [
              "<div style=\"max-width:800px; border: 1px solid var(--colab-border-color);\"><style>\n",
              "      pre.function-repr-contents {\n",
              "        overflow-x: auto;\n",
              "        padding: 8px 12px;\n",
              "        max-height: 500px;\n",
              "      }\n",
              "\n",
              "      pre.function-repr-contents.function-repr-contents-collapsed {\n",
              "        cursor: pointer;\n",
              "        max-height: 100px;\n",
              "      }\n",
              "    </style>\n",
              "    <pre style=\"white-space: initial; background:\n",
              "         var(--colab-secondary-surface-color); padding: 8px 12px;\n",
              "         border-bottom: 1px solid var(--colab-border-color);\"><b>h5py._hl.dataset.Dataset</b><br/>def __init__(bind, *, readonly=False)</pre><pre class=\"function-repr-contents function-repr-contents-collapsed\" style=\"\"><a class=\"filepath\" style=\"display:none\" href=\"#\">/usr/local/lib/python3.10/dist-packages/h5py/_hl/dataset.py</a>Represents an HDF5 dataset</pre>\n",
              "      <script>\n",
              "      if (google.colab.kernel.accessAllowed && google.colab.files && google.colab.files.view) {\n",
              "        for (const element of document.querySelectorAll('.filepath')) {\n",
              "          element.style.display = 'block'\n",
              "          element.onclick = (event) => {\n",
              "            event.preventDefault();\n",
              "            event.stopPropagation();\n",
              "            google.colab.files.view(element.textContent, 396);\n",
              "          };\n",
              "        }\n",
              "      }\n",
              "      for (const element of document.querySelectorAll('.function-repr-contents')) {\n",
              "        element.onclick = (event) => {\n",
              "          event.preventDefault();\n",
              "          event.stopPropagation();\n",
              "          element.classList.toggle('function-repr-contents-collapsed');\n",
              "        };\n",
              "      }\n",
              "      </script>\n",
              "      </div>"
            ]
          },
          "metadata": {},
          "execution_count": 9
        }
      ]
    },
    {
      "cell_type": "code",
      "source": [
        "with h5py.File('Prueba.h5', 'r') as archivo_hdf5:\n",
        "    # Acceder al conjunto de datos 'ChannelDataTimeStamps'\n",
        "    timestamps_data = archivo_hdf5[\"Data\"][\"Recording_0\"][\"AnalogStream\"][\"Stream_0\"][\"ChannelDataTimeStamps\"]\n",
        "\n",
        "    # Imprimir información clave\n",
        "    print(\"Forma de ChannelDataTimeStamps:\", timestamps_data.shape)\n",
        "\n",
        "    # Imprimir los primeros 5 valores\n",
        "    print(\"Valores de ChannelDataTimeStamps:\", timestamps_data[:, :])\n",
        "    # Puedes agregar más información según sea necesario"
      ],
      "metadata": {
        "colab": {
          "base_uri": "https://localhost:8080/"
        },
        "id": "HHYouPzbwiMO",
        "outputId": "6e582ffe-98d3-4de4-b834-ec57ba3cd62d"
      },
      "execution_count": 25,
      "outputs": [
        {
          "output_type": "stream",
          "name": "stdout",
          "text": [
            "Forma de ChannelDataTimeStamps: (1, 3)\n",
            "Valores de ChannelDataTimeStamps: [[      0       0 5999999]]\n"
          ]
        }
      ]
    },
    {
      "cell_type": "code",
      "source": [
        "with h5py.File('Prueba.h5', 'r') as archivo_hdf5:\n",
        "    # Acceder al conjunto de datos 'InfoChannel'\n",
        "    info_channel_data = archivo_hdf5[\"Data\"][\"Recording_0\"][\"AnalogStream\"][\"Stream_0\"][\"InfoChannel\"]\n",
        "\n",
        "    # Imprimir información clave\n",
        "    print(\"Forma de InfoChannel:\", info_channel_data.shape)\n",
        "\n",
        "    # Imprimir algunos valores de los primeros elementos en la estructura\n",
        "    print(\"Valores de InfoChannel:\")\n",
        "    for i in range(info_channel_data.shape[0]):\n",
        "        print(f\"Elemento {i + 1}: {info_channel_data[i]}\")"
      ],
      "metadata": {
        "colab": {
          "base_uri": "https://localhost:8080/"
        },
        "id": "JtUqGui3wj22",
        "outputId": "07ef42e6-82f2-4c91-957d-63ec4bce71e0"
      },
      "execution_count": 39,
      "outputs": [
        {
          "output_type": "stream",
          "name": "stdout",
          "text": [
            "Forma de InfoChannel: (9,)\n",
            "Valores de InfoChannel:\n",
            "Elemento 1: (82, 0, 0, 0, b'K5', b'Int', b'V', -12, 0, 100, 59605, 24, b'', b'-1', -1, b'', b'-1', -1)\n",
            "Elemento 2: (83, 1, 0, 0, b'L5', b'Int', b'V', -12, 0, 100, 59605, 24, b'', b'-1', -1, b'', b'-1', -1)\n",
            "Elemento 3: (84, 2, 0, 0, b'M5', b'Int', b'V', -12, 0, 100, 59605, 24, b'', b'-1', -1, b'', b'-1', -1)\n",
            "Elemento 4: (86, 3, 0, 0, b'K6', b'Int', b'V', -12, 0, 100, 59605, 24, b'', b'-1', -1, b'', b'-1', -1)\n",
            "Elemento 5: (87, 4, 0, 0, b'L6', b'Int', b'V', -12, 0, 100, 59605, 24, b'', b'-1', -1, b'', b'-1', -1)\n",
            "Elemento 6: (88, 5, 0, 0, b'M6', b'Int', b'V', -12, 0, 100, 59605, 24, b'', b'-1', -1, b'', b'-1', -1)\n",
            "Elemento 7: (92, 6, 0, 0, b'M7', b'Int', b'V', -12, 0, 100, 59605, 24, b'', b'-1', -1, b'', b'-1', -1)\n",
            "Elemento 8: (93, 7, 0, 0, b'L7', b'Int', b'V', -12, 0, 100, 59605, 24, b'', b'-1', -1, b'', b'-1', -1)\n",
            "Elemento 9: (94, 8, 0, 0, b'K7', b'Int', b'V', -12, 0, 100, 59605, 24, b'', b'-1', -1, b'', b'-1', -1)\n"
          ]
        }
      ]
    }
  ]
}